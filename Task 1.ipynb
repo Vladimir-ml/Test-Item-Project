{
 "cells": [
  {
   "cell_type": "markdown",
   "metadata": {},
   "source": [
    "## Задание 1\n",
    "\n",
    "В файле содержится информация о покупках людей:\n",
    "\n",
    "id | Товар | Количество\n",
    "---| ------------ | ---------:\n",
    " 1 | Апельсины    | 5\n",
    " 1 | Яблоки       | 120\n",
    " 1 | Груши        | 25\n",
    " 2 | Арбуз        | 4\n",
    " 2 | Ананас       | 1\n",
    " \n",
    " \n",
    "  * id – означает покупку (в одну покупку входят все товары, купленные пользователем во время 1 похода в магазин)  \n",
    "  * Товар – наименование товара  \n",
    "  * Количество – число единиц купленного товара  \n",
    "  \n",
    "Воспользуйтесь этими данными и выясните, какие пары товаров пользователи чаще всего покупают вместе. По сути, вам необходимо найти паттерны покупок, что позволит оптимизировать размещение продуктов в магазине, для удобства пользователей и увеличения выручки.\n",
    "    \n",
    "    \n",
    "1_Товар | 2_Товар | Встречаемость\n",
    "------| ------------ | ---------:\n",
    " Чай  | Арбуз    | 5\n",
    " Арбуз  | Сгущёнка       | 3\n",
    " Чай | Сгущёнка        | 1\n",
    "\n",
    " \n",
    " * 1_Товар – наименование первого товара  \n",
    " * 2_Товар – наименование второго товара  \n",
    " * Встречаемость – число раз, когда такая пара была встречена  \n",
    " \n",
    "Другими словами: 2 раза люди покупали одновременно чай и арбуз, 1 раз одновременно покупали арбуз и сгущёнку и 1 раз одновременно были куплены чай со сгущёнкой.\n",
    "\n",
    "Напишите код на python для получения нужной таблицы и укажите 5 наиболее распространённых паттернов."
   ]
  },
  {
   "cell_type": "code",
   "execution_count": 130,
   "metadata": {},
   "outputs": [],
   "source": [
    "# Загркзим необходимые библиотеки \n",
    "\n",
    "import pandas as pd\n",
    "import numpy as np\n",
    "import matplotlib as plt\n",
    "from itertools import*  "
   ]
  },
  {
   "cell_type": "markdown",
   "metadata": {},
   "source": [
    "### Подготовка данных"
   ]
  },
  {
   "cell_type": "code",
   "execution_count": 131,
   "metadata": {},
   "outputs": [],
   "source": [
    "data = pd.read_csv('test1_completed.csv') # считаем данные "
   ]
  },
  {
   "cell_type": "code",
   "execution_count": 132,
   "metadata": {},
   "outputs": [
    {
     "data": {
      "text/html": [
       "<div>\n",
       "<style scoped>\n",
       "    .dataframe tbody tr th:only-of-type {\n",
       "        vertical-align: middle;\n",
       "    }\n",
       "\n",
       "    .dataframe tbody tr th {\n",
       "        vertical-align: top;\n",
       "    }\n",
       "\n",
       "    .dataframe thead th {\n",
       "        text-align: right;\n",
       "    }\n",
       "</style>\n",
       "<table border=\"1\" class=\"dataframe\">\n",
       "  <thead>\n",
       "    <tr style=\"text-align: right;\">\n",
       "      <th></th>\n",
       "      <th>id</th>\n",
       "      <th>Товар</th>\n",
       "      <th>Количество</th>\n",
       "    </tr>\n",
       "  </thead>\n",
       "  <tbody>\n",
       "    <tr>\n",
       "      <th>0</th>\n",
       "      <td>17119</td>\n",
       "      <td>Лимон</td>\n",
       "      <td>1.1</td>\n",
       "    </tr>\n",
       "    <tr>\n",
       "      <th>1</th>\n",
       "      <td>17119</td>\n",
       "      <td>Лимон оранжевый</td>\n",
       "      <td>0.7</td>\n",
       "    </tr>\n",
       "    <tr>\n",
       "      <th>2</th>\n",
       "      <td>17119</td>\n",
       "      <td>Лук-порей</td>\n",
       "      <td>10.0</td>\n",
       "    </tr>\n",
       "    <tr>\n",
       "      <th>3</th>\n",
       "      <td>17119</td>\n",
       "      <td>Лук репчатый</td>\n",
       "      <td>2.5</td>\n",
       "    </tr>\n",
       "    <tr>\n",
       "      <th>4</th>\n",
       "      <td>17119</td>\n",
       "      <td>Малина свежая</td>\n",
       "      <td>1.0</td>\n",
       "    </tr>\n",
       "  </tbody>\n",
       "</table>\n",
       "</div>"
      ],
      "text/plain": [
       "      id            Товар  Количество\n",
       "0  17119            Лимон         1.1\n",
       "1  17119  Лимон оранжевый         0.7\n",
       "2  17119        Лук-порей        10.0\n",
       "3  17119     Лук репчатый         2.5\n",
       "4  17119    Малина свежая         1.0"
      ]
     },
     "execution_count": 132,
     "metadata": {},
     "output_type": "execute_result"
    }
   ],
   "source": [
    "data.head()"
   ]
  },
  {
   "cell_type": "code",
   "execution_count": 133,
   "metadata": {},
   "outputs": [
    {
     "data": {
      "text/plain": [
       "(43514, 3)"
      ]
     },
     "execution_count": 133,
     "metadata": {},
     "output_type": "execute_result"
    }
   ],
   "source": [
    "data.shape # посмотрим на размер данных"
   ]
  },
  {
   "cell_type": "code",
   "execution_count": 134,
   "metadata": {},
   "outputs": [
    {
     "data": {
      "text/plain": [
       "id            3273\n",
       "Товар          199\n",
       "Количество     101\n",
       "dtype: int64"
      ]
     },
     "execution_count": 134,
     "metadata": {},
     "output_type": "execute_result"
    }
   ],
   "source": [
    "data.nunique() # посмотрим на уникальные значения каждого столбца"
   ]
  },
  {
   "cell_type": "code",
   "execution_count": 135,
   "metadata": {},
   "outputs": [],
   "source": [
    "data.drop(columns = 'Количество', inplace = True) # удалим ненужную колонку \n",
    "data.rename(columns = {'Товар' : 'goods'}, inplace = True) # переименуем колонку для более удобного обращения "
   ]
  },
  {
   "cell_type": "markdown",
   "metadata": {},
   "source": [
    "### Предварительный расчёт "
   ]
  },
  {
   "cell_type": "markdown",
   "metadata": {},
   "source": [
    "Необходимо узнать сколько существует всевозможных пар товаров, исключая повторения ([лимон, яблоко] и [яблоко, лимон]), в предоставленных данных."
   ]
  },
  {
   "cell_type": "code",
   "execution_count": 136,
   "metadata": {},
   "outputs": [
    {
     "data": {
      "text/plain": [
       "199"
      ]
     },
     "execution_count": 136,
     "metadata": {},
     "output_type": "execute_result"
    }
   ],
   "source": [
    "data.goods.nunique() # всего уникальных продуктов в предоставленных данных"
   ]
  },
  {
   "cell_type": "markdown",
   "metadata": {},
   "source": [
    "Общая формула, которая позволяет найти число сочетаний из n объектов по r имеет вид:\n",
    "\n",
    "$$C_r = {n ! \\over {n!(n-r)}!}$$ \n",
    "\n",
    "где:  \n",
    "$С_r$- number of combinations;  \n",
    "$n$ - total number of objects in the set;  \n",
    "$r$ - number of choosing objects from yhe set;\n",
    "\n",
    "Подставив числа в формулу - получаем 19 701 сочетаний может быть в наших данных. "
   ]
  },
  {
   "cell_type": "markdown",
   "metadata": {},
   "source": [
    "### Работа над данными"
   ]
  },
  {
   "cell_type": "markdown",
   "metadata": {},
   "source": [
    "Последовательность действий:  \n",
    "    \n",
    "   1. Для каждого id найдем товары, которые он купил;  \n",
    "   2. Составим все возможные пары продуктов и будем добавлять их в словарь как ключи со значением: 1;  \n",
    "   3. Если такой ключ уже будет в словаре - прибавляем единицу к значению;  \n",
    "   4. Поставим условие, чтобы убрать повторяющиеся комбинации([лимон, яблоко] и [яблоко, лимон]) из словаря;  "
   ]
  },
  {
   "cell_type": "code",
   "execution_count": 137,
   "metadata": {},
   "outputs": [],
   "source": [
    "empty_dict = {} # пустой словарь\n",
    "\n",
    "for ids in data.id.unique():\n",
    "    staff = data.query('id == @ids').goods # для каждого id узнаем приобретённый товар \n",
    "    for pair in permutations(staff, 2): # создадим всевозможные пары товаров \n",
    "        if pair not in empty_dict: # и для каждой пары проверим её наличие в словаре \n",
    "            split_pair = pair[1],pair[0] # поменяем местами товары в паре \n",
    "            if split_pair not in empty_dict: # и проверим нет ли такой пары в списке \n",
    "                empty_dict[pair] = 1\n",
    "        else: \n",
    "            empty_dict[pair] = empty_dict[pair] + 1 #если какая-то пара уже есть в спике: добавим единичку к её значению"
   ]
  },
  {
   "cell_type": "code",
   "execution_count": 138,
   "metadata": {},
   "outputs": [
    {
     "data": {
      "text/plain": [
       "19697"
      ]
     },
     "execution_count": 138,
     "metadata": {},
     "output_type": "execute_result"
    }
   ],
   "source": [
    "len(empty_dict) # проверим число пар у нас в словаре"
   ]
  },
  {
   "cell_type": "markdown",
   "metadata": {},
   "source": [
    "Число пар не превышает максимально допустимое число сочетаний - ошибки нет."
   ]
  },
  {
   "cell_type": "markdown",
   "metadata": {},
   "source": [
    "### Окончательный результат"
   ]
  },
  {
   "cell_type": "code",
   "execution_count": 139,
   "metadata": {},
   "outputs": [],
   "source": [
    "result = pd.DataFrame.from_dict(empty_dict, orient = 'index') \\\n",
    "            .reset_index() \\\n",
    "            .rename(columns= {'index' : 'goods', 0 : 'Встречаемость'}) # переведём словарь в DataFrame"
   ]
  },
  {
   "cell_type": "code",
   "execution_count": 140,
   "metadata": {},
   "outputs": [],
   "source": [
    "product_1 = []\n",
    "product_2 = []\n",
    "\n",
    "for product in result.goods:\n",
    "    product_1.append(product[0])\n",
    "    product_2.append(product[1])\n",
    "    \n",
    "result.drop(columns = 'goods') # удалим ненужную колонку \n",
    "result['1_Товар'] = product_1 # добавим колонку с первым товаром \n",
    "result['2_Товар'] = product_2 # добавим колонку со вторым товаром \n",
    "result = result[['1_Товар', '2_Товар','Встречаемость']] #установим правильный порядок столбцов     "
   ]
  },
  {
   "cell_type": "code",
   "execution_count": 141,
   "metadata": {},
   "outputs": [
    {
     "data": {
      "text/html": [
       "<div>\n",
       "<style scoped>\n",
       "    .dataframe tbody tr th:only-of-type {\n",
       "        vertical-align: middle;\n",
       "    }\n",
       "\n",
       "    .dataframe tbody tr th {\n",
       "        vertical-align: top;\n",
       "    }\n",
       "\n",
       "    .dataframe thead th {\n",
       "        text-align: right;\n",
       "    }\n",
       "</style>\n",
       "<table border=\"1\" class=\"dataframe\">\n",
       "  <thead>\n",
       "    <tr style=\"text-align: right;\">\n",
       "      <th></th>\n",
       "      <th>1_Товар</th>\n",
       "      <th>2_Товар</th>\n",
       "      <th>Встречаемость</th>\n",
       "    </tr>\n",
       "  </thead>\n",
       "  <tbody>\n",
       "    <tr>\n",
       "      <th>291</th>\n",
       "      <td>Огурцы Луховицкие</td>\n",
       "      <td>Укроп</td>\n",
       "      <td>431</td>\n",
       "    </tr>\n",
       "    <tr>\n",
       "      <th>297</th>\n",
       "      <td>Петрушка</td>\n",
       "      <td>Укроп</td>\n",
       "      <td>408</td>\n",
       "    </tr>\n",
       "    <tr>\n",
       "      <th>3630</th>\n",
       "      <td>Арбуз</td>\n",
       "      <td>Огурцы Луховицкие</td>\n",
       "      <td>345</td>\n",
       "    </tr>\n",
       "    <tr>\n",
       "      <th>855</th>\n",
       "      <td>Кабачки</td>\n",
       "      <td>Огурцы Луховицкие</td>\n",
       "      <td>326</td>\n",
       "    </tr>\n",
       "    <tr>\n",
       "      <th>443</th>\n",
       "      <td>Кинза</td>\n",
       "      <td>Укроп</td>\n",
       "      <td>303</td>\n",
       "    </tr>\n",
       "  </tbody>\n",
       "</table>\n",
       "</div>"
      ],
      "text/plain": [
       "                1_Товар            2_Товар  Встречаемость\n",
       "291   Огурцы Луховицкие              Укроп            431\n",
       "297            Петрушка              Укроп            408\n",
       "3630              Арбуз  Огурцы Луховицкие            345\n",
       "855             Кабачки  Огурцы Луховицкие            326\n",
       "443               Кинза              Укроп            303"
      ]
     },
     "execution_count": 141,
     "metadata": {},
     "output_type": "execute_result"
    }
   ],
   "source": [
    "# посмотрим на результат \n",
    "result.sort_values('Встречаемость', ascending = False).head(5)"
   ]
  }
 ],
 "metadata": {
  "kernelspec": {
   "display_name": "Python 3",
   "language": "python",
   "name": "python3"
  },
  "language_info": {
   "codemirror_mode": {
    "name": "ipython",
    "version": 3
   },
   "file_extension": ".py",
   "mimetype": "text/x-python",
   "name": "python",
   "nbconvert_exporter": "python",
   "pygments_lexer": "ipython3",
   "version": "3.7.6"
  }
 },
 "nbformat": 4,
 "nbformat_minor": 4
}
